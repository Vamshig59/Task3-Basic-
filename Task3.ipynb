{
  "nbformat": 4,
  "nbformat_minor": 0,
  "metadata": {
    "colab": {
      "provenance": []
    },
    "kernelspec": {
      "name": "python3",
      "display_name": "Python 3"
    },
    "language_info": {
      "name": "python"
    }
  },
  "cells": [
    {
      "cell_type": "markdown",
      "source": [
        "# Q1) Find Angle MBC"
      ],
      "metadata": {
        "id": "Srga0T1ucFrR"
      }
    },
    {
      "cell_type": "code",
      "source": [
        "import math\n",
        "\n",
        "a = int(input())\n",
        "b = int(input())\n",
        "\n",
        "print(f'{math.degrees(math.atan(a / b)):1.0f}\\xb0')"
      ],
      "metadata": {
        "id": "cVGad6PSdQNI"
      },
      "execution_count": null,
      "outputs": []
    },
    {
      "cell_type": "markdown",
      "source": [
        "# Q2) Triangle Quest 2"
      ],
      "metadata": {
        "id": "C7wFredhdTfB"
      }
    },
    {
      "cell_type": "code",
      "source": [
        "for i in range(1, int(input())+1):\n",
        "    print((10**i//9)**2)"
      ],
      "metadata": {
        "id": "Jche_gq5deuB"
      },
      "execution_count": null,
      "outputs": []
    },
    {
      "cell_type": "markdown",
      "source": [
        "# Q3) Mod Divmod"
      ],
      "metadata": {
        "id": "T5U_LNbUeU9V"
      }
    },
    {
      "cell_type": "code",
      "source": [
        "a = int(input())\n",
        "b = int(input())\n",
        "\n",
        "print(a // b)\n",
        "print(a % b)\n",
        "print (divmod(a, b))"
      ],
      "metadata": {
        "id": "8Hu2i3IbedX8"
      },
      "execution_count": null,
      "outputs": []
    },
    {
      "cell_type": "markdown",
      "source": [
        "# Q4) Power - Mod Power"
      ],
      "metadata": {
        "id": "B1nBt799ek4F"
      }
    },
    {
      "cell_type": "code",
      "source": [
        "a=int(input())\n",
        "b=int(input())\n",
        "m=int(input())\n",
        "print(pow(a,b))\n",
        "print(pow(a,b,m))"
      ],
      "metadata": {
        "id": "2Ist0iLPer1d"
      },
      "execution_count": null,
      "outputs": []
    },
    {
      "cell_type": "markdown",
      "source": [
        "# Q4) Integers Come In All Sizes"
      ],
      "metadata": {
        "id": "qpzwgdeoeyz1"
      }
    },
    {
      "cell_type": "code",
      "source": [
        "a=int(input())\n",
        "b=int(input())\n",
        "c=int(input())\n",
        "d=int(input())\n",
        "print(pow(a,b)+pow(c,d))"
      ],
      "metadata": {
        "id": "uoRwjTF1e5wU"
      },
      "execution_count": null,
      "outputs": []
    },
    {
      "cell_type": "markdown",
      "source": [
        "# Q5) Triangle Quest"
      ],
      "metadata": {
        "id": "CUf2x7H_fFCO"
      }
    },
    {
      "cell_type": "code",
      "source": [
        "print((pow(10,i)//9)*i)"
      ],
      "metadata": {
        "id": "fFtHc5PGfLZl"
      },
      "execution_count": null,
      "outputs": []
    },
    {
      "cell_type": "markdown",
      "source": [],
      "metadata": {
        "id": "DNK4roqMcEuy"
      }
    },
    {
      "cell_type": "code",
      "execution_count": null,
      "metadata": {
        "id": "PYCYb6n3cAEi"
      },
      "outputs": [],
      "source": []
    }
  ]
}